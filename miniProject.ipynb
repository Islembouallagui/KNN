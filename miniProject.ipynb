{
  "nbformat": 4,
  "nbformat_minor": 0,
  "metadata": {
    "colab": {
      "private_outputs": true,
      "provenance": []
    },
    "kernelspec": {
      "name": "python3",
      "display_name": "Python 3"
    },
    "language_info": {
      "name": "python"
    }
  },
  "cells": [
    {
      "cell_type": "code",
      "source": [
        "import numpy as np\n",
        "import pandas as pd\n",
        "import matplotlib.pyplot as plt\n",
        "from sklearn.model_selection import train_test_split"
      ],
      "metadata": {
        "id": "NtyCkrFoDFIF"
      },
      "execution_count": null,
      "outputs": []
    },
    {
      "cell_type": "code",
      "source": [
        "from sklearn.datasets import fetch_openml\n",
        "mnist = fetch_openml(\"mnist_784\")"
      ],
      "metadata": {
        "id": "7qGpjO3BFIug"
      },
      "execution_count": null,
      "outputs": []
    },
    {
      "cell_type": "code",
      "source": [
        "mnist.data.shape"
      ],
      "metadata": {
        "id": "AA1VnX10FMOi"
      },
      "execution_count": null,
      "outputs": []
    },
    {
      "cell_type": "code",
      "source": [
        "df = pd.DataFrame(mnist['data'][0:70000])\n",
        "dfy = pd.DataFrame(mnist['target'][0:70000])\n",
        "data=df.values\n",
        "target=dfy.values\n",
        "print(data)\n",
        "print(target)"
      ],
      "metadata": {
        "id": "Ca7VuKnqFV49"
      },
      "execution_count": null,
      "outputs": []
    },
    {
      "cell_type": "code",
      "source": [
        "X=data[:,:]\n",
        "Y=target[:,0]\n",
        "print(X.shape,Y.shape)\n",
        "X_train, X_test, y_train, y_test = train_test_split(X, Y, test_size=0.25)"
      ],
      "metadata": {
        "id": "StkH7dNGFXq_"
      },
      "execution_count": null,
      "outputs": []
    },
    {
      "cell_type": "code",
      "source": [
        "print(X_train)\n",
        "print(y_train)\n",
        "import matplotlib.pyplot as plt\n",
        "def displayImage(img):\n",
        "    img = img.reshape((28,28))\n",
        "    plt.imshow(img, cmap='gray')\n",
        "    plt.show()\n",
        "    \n",
        "displayImage(X_train[0])\n",
        "print(y_train[0])"
      ],
      "metadata": {
        "id": "Mu2jszjuFkJR"
      },
      "execution_count": null,
      "outputs": []
    },
    {
      "cell_type": "code",
      "source": [
        "from sklearn.neighbors import KNeighborsClassifier\n",
        "print(X_train.shape, y_train.shape)\n",
        "print(X_test.shape, y_test.shape)\n",
        "KNN = KNeighborsClassifier(n_neighbors=3)\n",
        "KNN.fit(X_train,y_train)\n",
        "print(KNN.score(X_test,y_test)) \n",
        "import numpy as np\n",
        "test1 = X_test[1726].reshape(1,-1)\n",
        "displayImage(X_test[1726])\n",
        "KNN.predict(test1)"
      ],
      "metadata": {
        "id": "hOodAuelFlOn"
      },
      "execution_count": null,
      "outputs": []
    },
    {
      "cell_type": "code",
      "source": [
        "KNN.predict(test1)"
      ],
      "metadata": {
        "id": "hAKH2O_zFppP"
      },
      "execution_count": null,
      "outputs": []
    }
  ]
}